{
 "cells": [
  {
   "cell_type": "markdown",
   "metadata": {},
   "source": [
    "# Coding exercises\n",
    "Exercises 1-3 are thought exercises that don't require coding. If you need a Python crash-course/refresher, work through the [`python_101.ipynb`](./python_101.ipynb) notebook in chapter 1.\n",
    "\n",
    "## Exercise 4: Generate the data by running this cell\n",
    "This will give you a list of numbers to work with in the remaining exercises."
   ]
  },
  {
   "cell_type": "code",
   "execution_count": 1,
   "metadata": {},
   "outputs": [],
   "source": [
    "import random\n",
    "\n",
    "random.seed(0)\n",
    "salaries = [round(random.random()*1000000, -3) for _ in range(100)]"
   ]
  },
  {
   "cell_type": "code",
   "execution_count": 2,
   "metadata": {},
   "outputs": [],
   "source": [
    "import numpy as np"
   ]
  },
  {
   "cell_type": "markdown",
   "metadata": {},
   "source": [
    "## Exercise 5: Calculating statistics and verifying\n",
    "### mean"
   ]
  },
  {
   "cell_type": "code",
   "execution_count": 3,
   "metadata": {},
   "outputs": [
    {
     "data": {
      "text/plain": [
       "585690.0"
      ]
     },
     "execution_count": 3,
     "metadata": {},
     "output_type": "execute_result"
    }
   ],
   "source": [
    "salaries_mean = np.mean(salaries)\n",
    "salaries_mean"
   ]
  },
  {
   "cell_type": "code",
   "execution_count": 4,
   "metadata": {},
   "outputs": [
    {
     "data": {
      "text/plain": [
       "585690.0"
      ]
     },
     "execution_count": 4,
     "metadata": {},
     "output_type": "execute_result"
    }
   ],
   "source": [
    "salaries_mean_2 = np.sum(salaries)/len(salaries)\n",
    "salaries_mean_2"
   ]
  },
  {
   "cell_type": "markdown",
   "metadata": {},
   "source": [
    "### median"
   ]
  },
  {
   "cell_type": "code",
   "execution_count": 5,
   "metadata": {},
   "outputs": [
    {
     "data": {
      "text/plain": [
       "589000.0"
      ]
     },
     "execution_count": 5,
     "metadata": {},
     "output_type": "execute_result"
    }
   ],
   "source": [
    "salaries_median = np.median(salaries)\n",
    "salaries_median"
   ]
  },
  {
   "cell_type": "code",
   "execution_count": 6,
   "metadata": {},
   "outputs": [
    {
     "data": {
      "text/plain": [
       "589000.0"
      ]
     },
     "execution_count": 6,
     "metadata": {},
     "output_type": "execute_result"
    }
   ],
   "source": [
    "salaries.sort()\n",
    "N = len(salaries)\n",
    "median_2 = (salaries[int(N/2)]+salaries[int(N/2)-1])/2\n",
    "median_2"
   ]
  },
  {
   "cell_type": "code",
   "execution_count": 7,
   "metadata": {},
   "outputs": [
    {
     "data": {
      "text/plain": [
       "589000.0"
      ]
     },
     "execution_count": 7,
     "metadata": {},
     "output_type": "execute_result"
    }
   ],
   "source": [
    "median_3 = np.percentile(salaries, 50)\n",
    "median_3"
   ]
  },
  {
   "cell_type": "markdown",
   "metadata": {},
   "source": [
    "### mode"
   ]
  },
  {
   "cell_type": "code",
   "execution_count": 9,
   "metadata": {},
   "outputs": [
    {
     "name": "stdout",
     "output_type": "stream",
     "text": [
      "477000.0\n"
     ]
    }
   ],
   "source": [
    "vals, counts = np.unique(salaries, return_counts=True)\n",
    "index = np.argmax(counts)\n",
    "mode_salaries = vals[index]\n",
    "print(mode_salaries)"
   ]
  },
  {
   "cell_type": "markdown",
   "metadata": {},
   "source": [
    "### sample variance\n",
    "Remember to use Bessel's correction."
   ]
  },
  {
   "cell_type": "code",
   "execution_count": 10,
   "metadata": {},
   "outputs": [
    {
     "data": {
      "text/plain": [
       "70664054444.44444"
      ]
     },
     "execution_count": 10,
     "metadata": {},
     "output_type": "execute_result"
    }
   ],
   "source": [
    "variance = np.sum((salaries - salaries_mean)**2)/(len(salaries)-1)\n",
    "variance"
   ]
  },
  {
   "cell_type": "code",
   "execution_count": 14,
   "metadata": {},
   "outputs": [
    {
     "data": {
      "text/plain": [
       "70664054444.44444"
      ]
     },
     "execution_count": 14,
     "metadata": {},
     "output_type": "execute_result"
    }
   ],
   "source": [
    "variance_2 = np.var(salaries)*(len(salaries)/(len(salaries)-1))\n",
    "variance_2"
   ]
  },
  {
   "cell_type": "code",
   "execution_count": 34,
   "metadata": {},
   "outputs": [],
   "source": [
    "import statistics"
   ]
  },
  {
   "cell_type": "code",
   "execution_count": 35,
   "metadata": {},
   "outputs": [
    {
     "data": {
      "text/plain": [
       "70664054444.44444"
      ]
     },
     "execution_count": 35,
     "metadata": {},
     "output_type": "execute_result"
    }
   ],
   "source": [
    "statistics.variance(salaries)"
   ]
  },
  {
   "cell_type": "code",
   "execution_count": null,
   "metadata": {},
   "outputs": [],
   "source": []
  },
  {
   "cell_type": "markdown",
   "metadata": {},
   "source": [
    "### sample standard deviation\n",
    "Remember to use Bessel's correction."
   ]
  },
  {
   "cell_type": "code",
   "execution_count": 15,
   "metadata": {},
   "outputs": [
    {
     "data": {
      "text/plain": [
       "265827.11382484"
      ]
     },
     "execution_count": 15,
     "metadata": {},
     "output_type": "execute_result"
    }
   ],
   "source": [
    "sample_std = np.sqrt(variance)\n",
    "sample_std"
   ]
  },
  {
   "cell_type": "markdown",
   "metadata": {},
   "source": [
    "## Exercise 6: Calculating more statistics\n",
    "### range"
   ]
  },
  {
   "cell_type": "code",
   "execution_count": 16,
   "metadata": {},
   "outputs": [
    {
     "data": {
      "text/plain": [
       "995000.0"
      ]
     },
     "execution_count": 16,
     "metadata": {},
     "output_type": "execute_result"
    }
   ],
   "source": [
    "range_salaries = np.max(salaries) - np.min(salaries)\n",
    "range_salaries"
   ]
  },
  {
   "cell_type": "markdown",
   "metadata": {},
   "source": [
    "### coefficient of variation\n",
    "Make sure to use the sample standard deviation."
   ]
  },
  {
   "cell_type": "code",
   "execution_count": 17,
   "metadata": {},
   "outputs": [
    {
     "data": {
      "text/plain": [
       "0.45386998894439035"
      ]
     },
     "execution_count": 17,
     "metadata": {},
     "output_type": "execute_result"
    }
   ],
   "source": [
    "CV = sample_std/salaries_mean\n",
    "CV"
   ]
  },
  {
   "cell_type": "markdown",
   "metadata": {},
   "source": [
    "### interquartile range"
   ]
  },
  {
   "cell_type": "code",
   "execution_count": 18,
   "metadata": {},
   "outputs": [
    {
     "name": "stdout",
     "output_type": "stream",
     "text": [
      "Intervalo interquartil: 413250.0\n"
     ]
    }
   ],
   "source": [
    "Q1, Q3 = np.percentile(salaries, [25, 75])\n",
    "IQR = Q3 - Q1\n",
    "print(f\"Intervalo interquartil: {IQR}\")"
   ]
  },
  {
   "cell_type": "markdown",
   "metadata": {},
   "source": [
    "### quartile coefficent of dispersion"
   ]
  },
  {
   "cell_type": "code",
   "execution_count": 19,
   "metadata": {},
   "outputs": [
    {
     "name": "stdout",
     "output_type": "stream",
     "text": [
      "Coeficiente de dispersão quartil (QCD): 0.338660110633067\n"
     ]
    }
   ],
   "source": [
    "QCD = (Q3 - Q1)/(Q1 + Q3)\n",
    "print(f\"Coeficiente de dispersão quartil (QCD): {QCD}\")"
   ]
  },
  {
   "cell_type": "markdown",
   "metadata": {},
   "source": [
    "## Exercise 7: Scaling data\n",
    "### min-max scaling"
   ]
  },
  {
   "cell_type": "code",
   "execution_count": 26,
   "metadata": {},
   "outputs": [
    {
     "data": {
      "text/plain": [
       "array([0.        , 0.01306533, 0.07939698, 0.08140704, 0.08944724,\n",
       "       0.10050251, 0.10854271, 0.18693467, 0.18894472, 0.19095477,\n",
       "       0.23919598, 0.24422111, 0.25125628, 0.25929648, 0.26030151,\n",
       "       0.27638191, 0.28241206, 0.29045226, 0.30351759, 0.31055276,\n",
       "       0.32060302, 0.32562814, 0.38592965, 0.3919598 , 0.4       ,\n",
       "       0.40603015, 0.42211055, 0.43517588, 0.44623116, 0.44924623,\n",
       "       0.45226131, 0.47336683, 0.47839196, 0.47839196, 0.47839196,\n",
       "       0.48743719, 0.49547739, 0.50653266, 0.50954774, 0.51256281,\n",
       "       0.54170854, 0.54271357, 0.54874372, 0.55075377, 0.55276382,\n",
       "       0.56984925, 0.57788945, 0.58190955, 0.58492462, 0.58994975,\n",
       "       0.5919598 , 0.59798995, 0.60502513, 0.61306533, 0.61507538,\n",
       "       0.61507538, 0.6201005 , 0.65929648, 0.66231156, 0.67035176,\n",
       "       0.68643216, 0.70753769, 0.70954774, 0.72261307, 0.73266332,\n",
       "       0.75879397, 0.76080402, 0.76080402, 0.78693467, 0.7959799 ,\n",
       "       0.80603015, 0.8080402 , 0.81306533, 0.81507538, 0.81708543,\n",
       "       0.8281407 , 0.84522613, 0.84723618, 0.85226131, 0.86834171,\n",
       "       0.87135678, 0.87336683, 0.88040201, 0.89849246, 0.90150754,\n",
       "       0.90251256, 0.90552764, 0.91155779, 0.91356784, 0.91658291,\n",
       "       0.92060302, 0.92663317, 0.92663317, 0.93668342, 0.95376884,\n",
       "       0.9678392 , 0.97085427, 0.9718593 , 0.98693467, 1.        ])"
      ]
     },
     "execution_count": 26,
     "metadata": {},
     "output_type": "execute_result"
    }
   ],
   "source": [
    "salaries_normalized = (np.array(salaries) - min(salaries))/(max(salaries) - min(salaries))\n",
    "salaries_normalized"
   ]
  },
  {
   "cell_type": "markdown",
   "metadata": {},
   "source": [
    "### standardizing"
   ]
  },
  {
   "cell_type": "code",
   "execution_count": 27,
   "metadata": {},
   "outputs": [
    {
     "data": {
      "text/plain": [
       "array([-2.19951228, -2.15060831, -1.90232664, -1.89480295, -1.8647082 ,\n",
       "       -1.82332793, -1.79323318, -1.49980938, -1.4922857 , -1.48476201,\n",
       "       -1.30419352, -1.28538431, -1.2590514 , -1.22895665, -1.22519481,\n",
       "       -1.16500531, -1.14243425, -1.1123395 , -1.06343554, -1.03710263,\n",
       "       -0.9994842 , -0.98067498, -0.75496437, -0.73239331, -0.70229856,\n",
       "       -0.6797275 , -0.61953801, -0.57063404, -0.52925376, -0.51796823,\n",
       "       -0.5066827 , -0.42768399, -0.40887477, -0.40887477, -0.40887477,\n",
       "       -0.37501818, -0.34492343, -0.30354315, -0.29225762, -0.28097209,\n",
       "       -0.17187863, -0.16811679, -0.14554572, -0.13802204, -0.13049835,\n",
       "       -0.06654701, -0.03645226, -0.02140489, -0.01011936,  0.00868986,\n",
       "        0.01621355,  0.03878461,  0.06511751,  0.09521226,  0.10273595,\n",
       "        0.10273595,  0.12154516,  0.26825706,  0.27954259,  0.30963734,\n",
       "        0.36982683,  0.44882555,  0.45634923,  0.5052532 ,  0.54287164,\n",
       "        0.64067957,  0.64820325,  0.64820325,  0.74601118,  0.77986778,\n",
       "        0.81748621,  0.8250099 ,  0.84381912,  0.8513428 ,  0.85886649,\n",
       "        0.90024677,  0.96419811,  0.97172179,  0.99053101,  1.05072051,\n",
       "        1.06200604,  1.06952973,  1.09586263,  1.16357581,  1.17486134,\n",
       "        1.17862319,  1.18990872,  1.21247978,  1.22000347,  1.231289  ,\n",
       "        1.24633637,  1.26890743,  1.26890743,  1.30652587,  1.37047721,\n",
       "        1.42314301,  1.43442854,  1.43819039,  1.49461804,  1.54352201])"
      ]
     },
     "execution_count": 27,
     "metadata": {},
     "output_type": "execute_result"
    }
   ],
   "source": [
    "salaries_stardard = (np.array(salaries) - salaries_mean)/sample_std\n",
    "salaries_stardard"
   ]
  },
  {
   "cell_type": "markdown",
   "metadata": {},
   "source": [
    "## Exercise 8: Calculating covariance and correlation\n",
    "### covariance"
   ]
  },
  {
   "cell_type": "code",
   "execution_count": 36,
   "metadata": {},
   "outputs": [
    {
     "data": {
      "text/plain": [
       "0.2671629284671759"
      ]
     },
     "execution_count": 36,
     "metadata": {},
     "output_type": "execute_result"
    }
   ],
   "source": [
    "x = (salaries_normalized - np.mean(salaries_normalized)) * (salaries_stardard - np.mean(salaries_stardard))\n",
    "np.sum(x)/(len(x)-1)"
   ]
  },
  {
   "cell_type": "code",
   "execution_count": 42,
   "metadata": {},
   "outputs": [
    {
     "data": {
      "text/plain": [
       "0.267162928467176"
      ]
     },
     "execution_count": 42,
     "metadata": {},
     "output_type": "execute_result"
    }
   ],
   "source": [
    "COV = np.cov(salaries_normalized, salaries_stardard)[0][1]\n",
    "COV"
   ]
  },
  {
   "cell_type": "markdown",
   "metadata": {},
   "source": [
    "### Pearson correlation coefficient ($\\rho$)"
   ]
  },
  {
   "cell_type": "code",
   "execution_count": 43,
   "metadata": {},
   "outputs": [
    {
     "data": {
      "text/plain": [
       "0.2671629284671759"
      ]
     },
     "execution_count": 43,
     "metadata": {},
     "output_type": "execute_result"
    }
   ],
   "source": [
    "salaries_normalized_std = np.sqrt(statistics.variance(salaries_normalized))\n",
    "salaries_normalized_std"
   ]
  },
  {
   "cell_type": "code",
   "execution_count": 44,
   "metadata": {},
   "outputs": [
    {
     "data": {
      "text/plain": [
       "1.0"
      ]
     },
     "execution_count": 44,
     "metadata": {},
     "output_type": "execute_result"
    }
   ],
   "source": [
    "salaries_standard_std = np.sqrt(statistics.variance(salaries_stardard))\n",
    "salaries_standard_std"
   ]
  },
  {
   "cell_type": "code",
   "execution_count": 45,
   "metadata": {},
   "outputs": [
    {
     "data": {
      "text/plain": [
       "1.0000000000000004"
      ]
     },
     "execution_count": 45,
     "metadata": {},
     "output_type": "execute_result"
    }
   ],
   "source": [
    "rho = COV /(salaries_normalized_std * salaries_standard_std)\n",
    "rho"
   ]
  },
  {
   "cell_type": "markdown",
   "metadata": {},
   "source": [
    "<hr>\n",
    "<div style=\"overflow: hidden; margin-bottom: 10px;\">\n",
    "    <div style=\"float: left;\">\n",
    "        <a href=\"./python_101.ipynb\">\n",
    "            <button>Python 101</button>\n",
    "        </a>\n",
    "    </div>\n",
    "    <div style=\"float: right;\">\n",
    "        <a href=\"../../solutions/ch_01/solutions.ipynb\">\n",
    "            <button>Solutions</button>\n",
    "        </a>\n",
    "        <a href=\"../ch_02/1-pandas_data_structures.ipynb\">\n",
    "            <button>Chapter 2 &#8594;</button>\n",
    "        </a>\n",
    "    </div>\n",
    "</div>\n",
    "<hr>"
   ]
  }
 ],
 "metadata": {
  "kernelspec": {
   "display_name": "book_env",
   "language": "python",
   "name": "book_env"
  },
  "language_info": {
   "codemirror_mode": {
    "name": "ipython",
    "version": 3
   },
   "file_extension": ".py",
   "mimetype": "text/x-python",
   "name": "python",
   "nbconvert_exporter": "python",
   "pygments_lexer": "ipython3",
   "version": "3.7.10"
  }
 },
 "nbformat": 4,
 "nbformat_minor": 4
}
