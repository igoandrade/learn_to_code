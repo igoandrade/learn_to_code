{
 "cells": [
  {
   "cell_type": "code",
   "execution_count": 3,
   "id": "fef755ab-a8f7-4dd6-bfd1-9dd83178c203",
   "metadata": {},
   "outputs": [],
   "source": [
    "# importação dos pacotes das classes\n",
    "from kivy.app import App\n",
    "from kivy.uix.widget import Widget\n",
    "from kivy.interactive import InteractiveLauncher\n",
    "\n",
    "# alteração do tamanho da telae exibida\n",
    "from kivy.config import Config\n",
    "Config.set('graphics', 'fullscreen', '0')"
   ]
  },
  {
   "cell_type": "code",
   "execution_count": 4,
   "id": "5fa373e9-6a05-421a-8797-aabac0f48e54",
   "metadata": {},
   "outputs": [],
   "source": [
    "# clase da nossa aplicação\n",
    "class EstudoApp(App):\n",
    "    def build(self):\n",
    "        return Widget()"
   ]
  },
  {
   "cell_type": "code",
   "execution_count": 5,
   "id": "900b3e22-cde3-4468-84fb-d688c2a65fda",
   "metadata": {},
   "outputs": [],
   "source": [
    "# criar instância da classe EstudoApp()\n",
    "e = EstudoApp()\n",
    "ji = InteractiveLauncher(e) # Janela interativa\n",
    "ji.run()"
   ]
  },
  {
   "cell_type": "code",
   "execution_count": 6,
   "id": "76e33060-3005-4986-af38-55df60c5f218",
   "metadata": {},
   "outputs": [],
   "source": [
    "from kivy.uix.button import Button\n",
    "bt = Button(text=\"Clique aqui\")"
   ]
  },
  {
   "cell_type": "code",
   "execution_count": 7,
   "id": "47777b34-2eac-4fd0-bc9a-dda601c44d44",
   "metadata": {},
   "outputs": [],
   "source": [
    "ji.root.add_widget(bt)"
   ]
  },
  {
   "cell_type": "code",
   "execution_count": 14,
   "id": "0b99ed66-ad5f-4446-8722-a5fd01687d53",
   "metadata": {},
   "outputs": [
    {
     "name": "stdout",
     "output_type": "stream",
     "text": [
      "Igo Andrade\n",
      "Igo Andrade\n",
      "Igo Andrade\n",
      "Igo Andrade\n"
     ]
    }
   ],
   "source": [
    "bt.text=\"Igo\""
   ]
  },
  {
   "cell_type": "code",
   "execution_count": 12,
   "id": "837f0edc-13a0-4cb4-bc51-5070d912c2a3",
   "metadata": {},
   "outputs": [],
   "source": [
    "def bt_click():\n",
    "    print(\"Igo Andrade\")"
   ]
  },
  {
   "cell_type": "code",
   "execution_count": 13,
   "id": "aeed0a50-c0fd-4149-9635-80cd0f465eb0",
   "metadata": {},
   "outputs": [
    {
     "name": "stdout",
     "output_type": "stream",
     "text": [
      "Igo Andrade\n",
      "Igo Andrade\n",
      "Igo Andrade\n"
     ]
    }
   ],
   "source": [
    "bt.on_press = bt_click"
   ]
  },
  {
   "cell_type": "code",
   "execution_count": null,
   "id": "3f8feabd-2c98-48e6-84c8-03d63a324771",
   "metadata": {},
   "outputs": [],
   "source": []
  }
 ],
 "metadata": {
  "kernelspec": {
   "display_name": "kv37",
   "language": "python",
   "name": "kv37"
  },
  "language_info": {
   "codemirror_mode": {
    "name": "ipython",
    "version": 3
   },
   "file_extension": ".py",
   "mimetype": "text/x-python",
   "name": "python",
   "nbconvert_exporter": "python",
   "pygments_lexer": "ipython3",
   "version": "3.7.11"
  }
 },
 "nbformat": 4,
 "nbformat_minor": 5
}
