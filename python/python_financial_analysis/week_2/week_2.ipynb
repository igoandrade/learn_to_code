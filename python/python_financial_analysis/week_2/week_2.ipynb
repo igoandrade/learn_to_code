{
 "cells": [
  {
   "cell_type": "markdown",
   "id": "88417116-205d-47c5-8ae6-6351ea180bd8",
   "metadata": {
    "tags": []
   },
   "source": [
    "## Variáveis aleatórias"
   ]
  },
  {
   "cell_type": "code",
   "execution_count": 54,
   "id": "248d5e8e-cfc3-4bc7-aef2-606af3664126",
   "metadata": {},
   "outputs": [],
   "source": [
    "import pandas as pd\n",
    "import numpy as np\n",
    "import matplotlib.pyplot as plt\n",
    "%matplotlib inline"
   ]
  },
  {
   "cell_type": "code",
   "execution_count": 11,
   "id": "048788f3-e9a2-4974-83fd-10cecee9720e",
   "metadata": {},
   "outputs": [],
   "source": [
    "np.random.seed(1)"
   ]
  },
  {
   "cell_type": "markdown",
   "id": "b7ad306a-3ba4-4ad7-92a0-d683ab6fbcd1",
   "metadata": {
    "tags": []
   },
   "source": [
    "### Simulação de um lançamento de dois dados "
   ]
  },
  {
   "cell_type": "code",
   "execution_count": 2,
   "id": "5154ddc4-de25-4f16-ae04-f702fa73e918",
   "metadata": {},
   "outputs": [
    {
     "data": {
      "text/html": [
       "<div>\n",
       "<style scoped>\n",
       "    .dataframe tbody tr th:only-of-type {\n",
       "        vertical-align: middle;\n",
       "    }\n",
       "\n",
       "    .dataframe tbody tr th {\n",
       "        vertical-align: top;\n",
       "    }\n",
       "\n",
       "    .dataframe thead th {\n",
       "        text-align: right;\n",
       "    }\n",
       "</style>\n",
       "<table border=\"1\" class=\"dataframe\">\n",
       "  <thead>\n",
       "    <tr style=\"text-align: right;\">\n",
       "      <th></th>\n",
       "      <th>0</th>\n",
       "    </tr>\n",
       "  </thead>\n",
       "  <tbody>\n",
       "    <tr>\n",
       "      <th>0</th>\n",
       "      <td>1</td>\n",
       "    </tr>\n",
       "    <tr>\n",
       "      <th>1</th>\n",
       "      <td>2</td>\n",
       "    </tr>\n",
       "    <tr>\n",
       "      <th>2</th>\n",
       "      <td>3</td>\n",
       "    </tr>\n",
       "    <tr>\n",
       "      <th>3</th>\n",
       "      <td>4</td>\n",
       "    </tr>\n",
       "    <tr>\n",
       "      <th>4</th>\n",
       "      <td>5</td>\n",
       "    </tr>\n",
       "    <tr>\n",
       "      <th>5</th>\n",
       "      <td>6</td>\n",
       "    </tr>\n",
       "  </tbody>\n",
       "</table>\n",
       "</div>"
      ],
      "text/plain": [
       "   0\n",
       "0  1\n",
       "1  2\n",
       "2  3\n",
       "3  4\n",
       "4  5\n",
       "5  6"
      ]
     },
     "execution_count": 2,
     "metadata": {},
     "output_type": "execute_result"
    }
   ],
   "source": [
    "dice = pd.DataFrame(range(1,7))\n",
    "dice"
   ]
  },
  {
   "cell_type": "code",
   "execution_count": 5,
   "id": "8da26c6e-6603-4a33-9737-8db0d2c7b496",
   "metadata": {},
   "outputs": [
    {
     "name": "stdout",
     "output_type": "stream",
     "text": [
      "Sum of dice is  5.\n",
      "Sum of dice is  2.\n",
      "Sum of dice is  7.\n",
      "Sum of dice is 10.\n",
      "Sum of dice is  9.\n",
      "Sum of dice is  6.\n",
      "Sum of dice is  2.\n",
      "Sum of dice is  6.\n",
      "Sum of dice is  6.\n",
      "Sum of dice is  3.\n"
     ]
    }
   ],
   "source": [
    "for i in range(10):\n",
    "    sum_of_dice = dice.sample(2, replace=True).sum().loc[0]\n",
    "    print(f'Sum of dice is {sum_of_dice:>2d}.')"
   ]
  },
  {
   "cell_type": "code",
   "execution_count": 19,
   "id": "7eb0a98f-cb4f-49aa-9725-d3cd08434caf",
   "metadata": {},
   "outputs": [
    {
     "data": {
      "text/plain": [
       "[8, 7, 6, 7, 4, 11, 8, 4, 5, 9]"
      ]
     },
     "execution_count": 19,
     "metadata": {},
     "output_type": "execute_result"
    }
   ],
   "source": [
    "trial = 100\n",
    "result = [dice.sample(2, replace=True).sum().loc[0] for i in range(trial)]\n",
    "result[:10]"
   ]
  },
  {
   "cell_type": "markdown",
   "id": "5344977f-eafe-4f25-901d-afbd57a4b8ad",
   "metadata": {},
   "source": [
    "### Frequência"
   ]
  },
  {
   "cell_type": "code",
   "execution_count": 20,
   "id": "dd1d14f2-08eb-492d-b824-df82c5f3d1d7",
   "metadata": {},
   "outputs": [
    {
     "data": {
      "text/plain": [
       "2      2\n",
       "3      1\n",
       "4      6\n",
       "5     12\n",
       "6     16\n",
       "7     17\n",
       "8     22\n",
       "9     11\n",
       "10     6\n",
       "11     4\n",
       "12     3\n",
       "Name: 0, dtype: int64"
      ]
     },
     "execution_count": 20,
     "metadata": {},
     "output_type": "execute_result"
    }
   ],
   "source": [
    "freq = pd.DataFrame(result)[0].value_counts()\n",
    "sort_freq = freq.sort_index()\n",
    "sort_freq"
   ]
  },
  {
   "cell_type": "code",
   "execution_count": 22,
   "id": "035e84fc-1651-475b-9d63-edf7b3f60204",
   "metadata": {},
   "outputs": [
    {
     "data": {
      "image/png": "[encoded data removed]",
      "text/plain": [
       "<Figure size 432x288 with 1 Axes>"
      ]
     },
     "metadata": {
      "needs_background": "light"
     },
     "output_type": "display_data"
    }
   ],
   "source": [
    "sort_freq.plot(kind='bar', color='blue')\n",
    "plt.xlabel('Soma das faces')\n",
    "plt.ylabel('Frequência absoluta')\n",
    "plt.show()"
   ]
  },
  {
   "cell_type": "markdown",
   "id": "288cd3de-0375-4ae3-bc06-39fcf0f36a2f",
   "metadata": {},
   "source": [
    "### Frequência relativa"
   ]
  },
  {
   "cell_type": "code",
   "execution_count": 28,
   "id": "017e41fa-55c1-40d1-bb75-190097751185",
   "metadata": {},
   "outputs": [
    {
     "data": {
      "text/plain": [
       "Text(0.5, 1.0, 'Número de lançamentos: 100')"
      ]
     },
     "execution_count": 28,
     "metadata": {},
     "output_type": "execute_result"
    },
    {
     "data": {
      "image/png": "[encoded data removed]",
      "text/plain": [
       "<Figure size 432x288 with 1 Axes>"
      ]
     },
     "metadata": {
      "needs_background": "light"
     },
     "output_type": "display_data"
    }
   ],
   "source": [
    "trials = 100\n",
    "result = [dice.sample(2,replace=True).sum().loc[0] for i in range(trials)]\n",
    "freq = pd.DataFrame(result)[0].value_counts()\n",
    "sort_freq = freq.sort_index()\n",
    "relative_freq = sort_freq / sort_freq.sum()\n",
    "relative_freq.plot(kind='bar', color='blue')\n",
    "plt.xlabel('Soma das faces')\n",
    "plt.ylabel('Frequência relativa (%)')\n",
    "plt.title(\"Número de lançamentos: 100\")"
   ]
  },
  {
   "cell_type": "markdown",
   "id": "fdc8217d-eef2-4a16-bb9c-76e83df58f17",
   "metadata": {},
   "source": [
    "### Modelos de retorno de ações"
   ]
  },
  {
   "cell_type": "code",
   "execution_count": 31,
   "id": "57ba1a32-c799-40b2-8ca1-fb0f8e5b1bff",
   "metadata": {},
   "outputs": [
    {
     "data": {
      "text/html": [
       "<div>\n",
       "<style scoped>\n",
       "    .dataframe tbody tr th:only-of-type {\n",
       "        vertical-align: middle;\n",
       "    }\n",
       "\n",
       "    .dataframe tbody tr th {\n",
       "        vertical-align: top;\n",
       "    }\n",
       "\n",
       "    .dataframe thead th {\n",
       "        text-align: right;\n",
       "    }\n",
       "</style>\n",
       "<table border=\"1\" class=\"dataframe\">\n",
       "  <thead>\n",
       "    <tr style=\"text-align: right;\">\n",
       "      <th></th>\n",
       "      <th>Open</th>\n",
       "      <th>High</th>\n",
       "      <th>Low</th>\n",
       "      <th>Close</th>\n",
       "      <th>Adj Close</th>\n",
       "      <th>Volume</th>\n",
       "    </tr>\n",
       "    <tr>\n",
       "      <th>Date</th>\n",
       "      <th></th>\n",
       "      <th></th>\n",
       "      <th></th>\n",
       "      <th></th>\n",
       "      <th></th>\n",
       "      <th></th>\n",
       "    </tr>\n",
       "  </thead>\n",
       "  <tbody>\n",
       "    <tr>\n",
       "      <th>2006-10-02</th>\n",
       "      <td>10.728572</td>\n",
       "      <td>10.838572</td>\n",
       "      <td>10.614285</td>\n",
       "      <td>10.694285</td>\n",
       "      <td>7.239566</td>\n",
       "      <td>178159800</td>\n",
       "    </tr>\n",
       "    <tr>\n",
       "      <th>2006-10-03</th>\n",
       "      <td>10.635715</td>\n",
       "      <td>10.707143</td>\n",
       "      <td>10.455714</td>\n",
       "      <td>10.582857</td>\n",
       "      <td>7.164135</td>\n",
       "      <td>197677200</td>\n",
       "    </tr>\n",
       "    <tr>\n",
       "      <th>2006-10-04</th>\n",
       "      <td>10.585714</td>\n",
       "      <td>10.780000</td>\n",
       "      <td>10.451428</td>\n",
       "      <td>10.768572</td>\n",
       "      <td>7.289855</td>\n",
       "      <td>207270700</td>\n",
       "    </tr>\n",
       "    <tr>\n",
       "      <th>2006-10-05</th>\n",
       "      <td>10.647142</td>\n",
       "      <td>10.880000</td>\n",
       "      <td>10.590000</td>\n",
       "      <td>10.690000</td>\n",
       "      <td>7.236666</td>\n",
       "      <td>170970800</td>\n",
       "    </tr>\n",
       "    <tr>\n",
       "      <th>2006-10-06</th>\n",
       "      <td>10.631429</td>\n",
       "      <td>10.720000</td>\n",
       "      <td>10.544286</td>\n",
       "      <td>10.602858</td>\n",
       "      <td>7.177672</td>\n",
       "      <td>116739700</td>\n",
       "    </tr>\n",
       "  </tbody>\n",
       "</table>\n",
       "</div>"
      ],
      "text/plain": [
       "                 Open       High        Low      Close  Adj Close     Volume\n",
       "Date                                                                        \n",
       "2006-10-02  10.728572  10.838572  10.614285  10.694285   7.239566  178159800\n",
       "2006-10-03  10.635715  10.707143  10.455714  10.582857   7.164135  197677200\n",
       "2006-10-04  10.585714  10.780000  10.451428  10.768572   7.289855  207270700\n",
       "2006-10-05  10.647142  10.880000  10.590000  10.690000   7.236666  170970800\n",
       "2006-10-06  10.631429  10.720000  10.544286  10.602858   7.177672  116739700"
      ]
     },
     "execution_count": 31,
     "metadata": {},
     "output_type": "execute_result"
    }
   ],
   "source": [
    "aapl = pd.read_csv('../data/apple.csv', index_col=0)\n",
    "aapl.index = pd.to_datetime(aapl.index, errors='coerce')\n",
    "aapl.head()"
   ]
  },
  {
   "cell_type": "code",
   "execution_count": 33,
   "id": "42048b92-8219-4d6c-a4ab-e87370bcdc1f",
   "metadata": {},
   "outputs": [
    {
     "data": {
      "text/plain": [
       "<AxesSubplot:xlabel='Date'>"
      ]
     },
     "execution_count": 33,
     "metadata": {},
     "output_type": "execute_result"
    },
    {
     "data": {
      "image/png": "[encoded data removed]",
      "text/plain": [
       "<Figure size 720x576 with 1 Axes>"
      ]
     },
     "metadata": {
      "needs_background": "light"
     },
     "output_type": "display_data"
    }
   ],
   "source": [
    "aapl.loc['2012-8-01':'2013-8-01', 'Close'].plot(figsize=(10,8))"
   ]
  },
  {
   "cell_type": "markdown",
   "id": "5ca93c4e-c2d4-445d-a5e9-61d01f76440f",
   "metadata": {},
   "source": [
    "O preço das ações da Apple caiu mais de 40% de agosto de 2012 a maio de 2013.\n",
    "\n",
    "Nesse contexto, desejamos calcular qual a probabilidade de obtermos um retorno anual inferior a 40%."
   ]
  },
  {
   "cell_type": "markdown",
   "id": "c6838f13-eb0e-4ddb-9e3f-e5c7508d794a",
   "metadata": {},
   "source": [
    "## Retorno logarítimico diário da Apple"
   ]
  },
  {
   "cell_type": "code",
   "execution_count": 56,
   "id": "dff84511-028f-463a-9a9b-6d0c92607645",
   "metadata": {},
   "outputs": [
    {
     "data": {
      "image/png": "[encoded data removed]",
      "text/plain": [
       "<Figure size 432x288 with 1 Axes>"
      ]
     },
     "metadata": {
      "needs_background": "light"
     },
     "output_type": "display_data"
    }
   ],
   "source": [
    "aapl['LogReturn'] = np.log(aapl['Close']).shift(-1) - np.log(aapl['Close'])\n",
    "aapl['LogReturn'].hist(density=True, bins=50, edgecolor='white')\n",
    "plt.show()"
   ]
  },
  {
   "cell_type": "code",
   "execution_count": 36,
   "id": "71ccead4-590c-443c-bce5-80255ee89f5a",
   "metadata": {},
   "outputs": [],
   "source": [
    "from scipy.stats import norm"
   ]
  },
  {
   "cell_type": "code",
   "execution_count": 37,
   "id": "4ef4332a-c035-406c-845a-ee803ae4f055",
   "metadata": {},
   "outputs": [],
   "source": [
    "density = pd.DataFrame()\n",
    "density['x'] = np.arange(-4, 4, 0.001)\n",
    "density['pdf'] = norm.pdf(density['x'], 0,1)\n",
    "density['cdf'] = norm.cdf(density['x'], 0,1)"
   ]
  },
  {
   "cell_type": "code",
   "execution_count": 39,
   "id": "f775b9d2-5161-4e9e-a0ad-facfd64a63d6",
   "metadata": {},
   "outputs": [
    {
     "data": {
      "image/png": "[encoded data removed]",
      "text/plain": [
       "<Figure size 432x288 with 1 Axes>"
      ]
     },
     "metadata": {
      "needs_background": "light"
     },
     "output_type": "display_data"
    }
   ],
   "source": [
    "plt.plot(density['x'], density['pdf'])\n",
    "plt.xlabel('x')\n",
    "plt.ylabel('pdf')\n",
    "plt.show()"
   ]
  },
  {
   "cell_type": "code",
   "execution_count": 40,
   "id": "a19ac320-3651-4a50-9ec7-d8cefc0622e8",
   "metadata": {},
   "outputs": [
    {
     "data": {
      "image/png": "[encoded data removed]",
      "text/plain": [
       "<Figure size 432x288 with 1 Axes>"
      ]
     },
     "metadata": {
      "needs_background": "light"
     },
     "output_type": "display_data"
    }
   ],
   "source": [
    "plt.plot(density['x'], density['cdf'])\n",
    "plt.xlabel('x')\n",
    "plt.ylabel('cdf')\n",
    "plt.show()"
   ]
  },
  {
   "cell_type": "markdown",
   "id": "e310e9b9-c19b-4b2a-9abb-3efdadb8bf5d",
   "metadata": {},
   "source": [
    "### Média e variância aproximadas para o retorno log das ações"
   ]
  },
  {
   "cell_type": "code",
   "execution_count": 45,
   "id": "10e40d00-5428-4530-9a30-9abc3c4d17e2",
   "metadata": {},
   "outputs": [
    {
     "name": "stdout",
     "output_type": "stream",
     "text": [
      "Média: 0.000975, Variância: 0.020045\n"
     ]
    }
   ],
   "source": [
    "mu = aapl['LogReturn'].mean()\n",
    "sigma = aapl['LogReturn'].std(ddof=1)\n",
    "print(f\"Média: {mu:>.6f}, Variância: {sigma:>.6f}\")"
   ]
  },
  {
   "cell_type": "code",
   "execution_count": null,
   "id": "3eb65054-3439-424d-9190-043beca8e983",
   "metadata": {},
   "outputs": [],
   "source": [
    "def "
   ]
  },
  {
   "cell_type": "code",
   "execution_count": 144,
   "id": "a8480857-646b-45ed-8216-e79be243c78f",
   "metadata": {},
   "outputs": [
    {
     "data": {
      "image/png": "[encoded data removed]",
      "text/plain": [
       "<Figure size 432x288 with 1 Axes>"
      ]
     },
     "metadata": {
      "needs_background": "light"
     },
     "output_type": "display_data"
    }
   ],
   "source": [
    "aapl['LogReturn'].hist(density=True, bins=50, edgecolor='white')\n",
    "x = list(aapl['LogReturn'])\n",
    "x.sort()\n",
    "y = norm.pdf(x, mu, sigma)\n",
    "plt.plot(x,y)\n",
    "plt.show()"
   ]
  },
  {
   "cell_type": "markdown",
   "id": "8317731c-5982-4cd1-ac20-1175428b812d",
   "metadata": {},
   "source": [
    "Exemplo:"
   ]
  },
  {
   "cell_type": "code",
   "execution_count": 149,
   "id": "73712749-2025-401d-b25e-05aadc13fc9b",
   "metadata": {},
   "outputs": [
    {
     "data": {
      "text/html": [
       "<div>\n",
       "<style scoped>\n",
       "    .dataframe tbody tr th:only-of-type {\n",
       "        vertical-align: middle;\n",
       "    }\n",
       "\n",
       "    .dataframe tbody tr th {\n",
       "        vertical-align: top;\n",
       "    }\n",
       "\n",
       "    .dataframe thead th {\n",
       "        text-align: right;\n",
       "    }\n",
       "</style>\n",
       "<table border=\"1\" class=\"dataframe\">\n",
       "  <thead>\n",
       "    <tr style=\"text-align: right;\">\n",
       "      <th></th>\n",
       "      <th>x</th>\n",
       "      <th>pdf</th>\n",
       "    </tr>\n",
       "  </thead>\n",
       "  <tbody>\n",
       "    <tr>\n",
       "      <th>0</th>\n",
       "      <td>-0.100</td>\n",
       "      <td>0.000061</td>\n",
       "    </tr>\n",
       "    <tr>\n",
       "      <th>1</th>\n",
       "      <td>-0.099</td>\n",
       "      <td>0.000079</td>\n",
       "    </tr>\n",
       "    <tr>\n",
       "      <th>2</th>\n",
       "      <td>-0.098</td>\n",
       "      <td>0.000101</td>\n",
       "    </tr>\n",
       "    <tr>\n",
       "      <th>3</th>\n",
       "      <td>-0.097</td>\n",
       "      <td>0.000129</td>\n",
       "    </tr>\n",
       "    <tr>\n",
       "      <th>4</th>\n",
       "      <td>-0.096</td>\n",
       "      <td>0.000165</td>\n",
       "    </tr>\n",
       "  </tbody>\n",
       "</table>\n",
       "</div>"
      ],
      "text/plain": [
       "       x       pdf\n",
       "0 -0.100  0.000061\n",
       "1 -0.099  0.000079\n",
       "2 -0.098  0.000101\n",
       "3 -0.097  0.000129\n",
       "4 -0.096  0.000165"
      ]
     },
     "execution_count": 149,
     "metadata": {},
     "output_type": "execute_result"
    }
   ],
   "source": [
    "denApp = pd.DataFrame()\n",
    "denApp['x'] = np.arange(-0.1, 0.1, 0.001)\n",
    "denApp['pdf'] = norm.pdf(denApp['x'], mu, sigma)\n",
    "denApp.head()"
   ]
  },
  {
   "cell_type": "code",
   "execution_count": 169,
   "id": "cb0915e4-a70f-4d4c-877b-6c3540d74dde",
   "metadata": {},
   "outputs": [
    {
     "name": "stdout",
     "output_type": "stream",
     "text": [
      "1501 1501\n"
     ]
    }
   ],
   "source": [
    "x = np.arange(-0.1, 0.05, 0.0001)\n",
    "y1 = norm.pdf(np.arange(-0.1, 0.05, 0.0001), mu, sigma)\n",
    "print(len(x), len(y1))"
   ]
  },
  {
   "cell_type": "code",
   "execution_count": 178,
   "id": "45b58ad2-88a2-4c88-8283-73fc9d076804",
   "metadata": {},
   "outputs": [
    {
     "data": {
      "text/plain": [
       "<matplotlib.collections.PolyCollection at 0x1d061f19e20>"
      ]
     },
     "execution_count": 178,
     "metadata": {},
     "output_type": "execute_result"
    },
    {
     "data": {
      "image/png": "[encoded data removed]",
      "text/plain": [
       "<Figure size 432x288 with 1 Axes>"
      ]
     },
     "metadata": {
      "needs_background": "light"
     },
     "output_type": "display_data"
    }
   ],
   "source": [
    "plt.ylim = (0,20)\n",
    "plt.plot(denApp['x'], denApp['pdf'])\n",
    "plt.fill_between(x = np.arange(-0.1, -0.05, 0.0001),\n",
    "                 y2 = 0,\n",
    "                 y1 = norm.pdf(np.arange(-0.1, -0.05, 0.0001), mu, sigma),\n",
    "                 facecolor = 'pink',\n",
    "                 alpha = 0.5)"
   ]
  },
  {
   "cell_type": "code",
   "execution_count": 177,
   "id": "b31c542d-9ee7-44f5-85ff-2f5efcbc304c",
   "metadata": {},
   "outputs": [
    {
     "name": "stdout",
     "output_type": "stream",
     "text": [
      "A probabilidade de um retorno menor que -5% é 0.5495%.\n"
     ]
    }
   ],
   "source": [
    "prob_return1 = norm.cdf(-0.05, mu, sigma)\n",
    "print(f\"A probabilidade de um retorno menor que -5% é {100*prob_return1:>.4f}%.\")"
   ]
  },
  {
   "cell_type": "markdown",
   "id": "639cc21b-3626-4f1f-a88c-aac1b8191437",
   "metadata": {},
   "source": [
    "Qual a probabilidade de o valor das ações da Apple cair mais de 40%  em um ano (220 trading days)?"
   ]
  },
  {
   "cell_type": "code",
   "execution_count": 179,
   "id": "8a3c6e87-2d7b-47a8-9374-707f4247c600",
   "metadata": {},
   "outputs": [
    {
     "name": "stdout",
     "output_type": "stream",
     "text": [
      "0.1950935518300176 0.29732203656371786\n"
     ]
    }
   ],
   "source": [
    "mu220 = 200 * mu\n",
    "sigma220 = 220**0.5 * sigma\n",
    "print(mu220, sigma220)"
   ]
  },
  {
   "cell_type": "code",
   "execution_count": 181,
   "id": "3584ba13-7199-411b-8ec9-c292d0f1f320",
   "metadata": {},
   "outputs": [
    {
     "name": "stdout",
     "output_type": "stream",
     "text": [
      "A probabilidade de uma queda de mais de 40% no preço das ações em 220 dias é: 2.26686%.\n"
     ]
    }
   ],
   "source": [
    "p40 = norm.cdf(-0.4, mu220, sigma220)\n",
    "print(f\"A probabilidade de uma queda de mais de 40% no preço das ações em 220 dias é: {100*p40:>.5f}%.\")"
   ]
  },
  {
   "cell_type": "markdown",
   "id": "c35a6d56-6368-43aa-9da2-761b8c86186e",
   "metadata": {},
   "source": [
    "## Models of Stock Return"
   ]
  },
  {
   "cell_type": "code",
   "execution_count": 185,
   "id": "6db32d0a-5c26-440b-a6c6-ef88e6f9620f",
   "metadata": {},
   "outputs": [],
   "source": [
    "import pandas as pd\n",
    "import numpy as np\n",
    "from scipy.stats import norm\n",
    "import matplotlib.pyplot as plt\n",
    "%matplotlib inline"
   ]
  },
  {
   "cell_type": "code",
   "execution_count": 183,
   "id": "c2630fa5-f755-4686-9996-ed7a889de566",
   "metadata": {},
   "outputs": [
    {
     "data": {
      "text/html": [
       "<div>\n",
       "<style scoped>\n",
       "    .dataframe tbody tr th:only-of-type {\n",
       "        vertical-align: middle;\n",
       "    }\n",
       "\n",
       "    .dataframe tbody tr th {\n",
       "        vertical-align: top;\n",
       "    }\n",
       "\n",
       "    .dataframe thead th {\n",
       "        text-align: right;\n",
       "    }\n",
       "</style>\n",
       "<table border=\"1\" class=\"dataframe\">\n",
       "  <thead>\n",
       "    <tr style=\"text-align: right;\">\n",
       "      <th></th>\n",
       "      <th>Open</th>\n",
       "      <th>High</th>\n",
       "      <th>Low</th>\n",
       "      <th>Close</th>\n",
       "      <th>Adj Close</th>\n",
       "      <th>Volume</th>\n",
       "    </tr>\n",
       "    <tr>\n",
       "      <th>Date</th>\n",
       "      <th></th>\n",
       "      <th></th>\n",
       "      <th></th>\n",
       "      <th></th>\n",
       "      <th></th>\n",
       "      <th></th>\n",
       "    </tr>\n",
       "  </thead>\n",
       "  <tbody>\n",
       "    <tr>\n",
       "      <th>2014-12-31</th>\n",
       "      <td>46.730000</td>\n",
       "      <td>47.439999</td>\n",
       "      <td>46.450001</td>\n",
       "      <td>46.450001</td>\n",
       "      <td>42.848763</td>\n",
       "      <td>21552500</td>\n",
       "    </tr>\n",
       "    <tr>\n",
       "      <th>2015-01-02</th>\n",
       "      <td>46.660000</td>\n",
       "      <td>47.419998</td>\n",
       "      <td>46.540001</td>\n",
       "      <td>46.759998</td>\n",
       "      <td>43.134731</td>\n",
       "      <td>27913900</td>\n",
       "    </tr>\n",
       "    <tr>\n",
       "      <th>2015-01-05</th>\n",
       "      <td>46.369999</td>\n",
       "      <td>46.730000</td>\n",
       "      <td>46.250000</td>\n",
       "      <td>46.330002</td>\n",
       "      <td>42.738068</td>\n",
       "      <td>39673900</td>\n",
       "    </tr>\n",
       "    <tr>\n",
       "      <th>2015-01-06</th>\n",
       "      <td>46.380001</td>\n",
       "      <td>46.750000</td>\n",
       "      <td>45.540001</td>\n",
       "      <td>45.650002</td>\n",
       "      <td>42.110783</td>\n",
       "      <td>36447900</td>\n",
       "    </tr>\n",
       "    <tr>\n",
       "      <th>2015-01-07</th>\n",
       "      <td>45.980000</td>\n",
       "      <td>46.459999</td>\n",
       "      <td>45.490002</td>\n",
       "      <td>46.230000</td>\n",
       "      <td>42.645817</td>\n",
       "      <td>29114100</td>\n",
       "    </tr>\n",
       "  </tbody>\n",
       "</table>\n",
       "</div>"
      ],
      "text/plain": [
       "                 Open       High        Low      Close  Adj Close    Volume\n",
       "Date                                                                       \n",
       "2014-12-31  46.730000  47.439999  46.450001  46.450001  42.848763  21552500\n",
       "2015-01-02  46.660000  47.419998  46.540001  46.759998  43.134731  27913900\n",
       "2015-01-05  46.369999  46.730000  46.250000  46.330002  42.738068  39673900\n",
       "2015-01-06  46.380001  46.750000  45.540001  45.650002  42.110783  36447900\n",
       "2015-01-07  45.980000  46.459999  45.490002  46.230000  42.645817  29114100"
      ]
     },
     "execution_count": 183,
     "metadata": {},
     "output_type": "execute_result"
    }
   ],
   "source": [
    "ms = pd.read_csv('../data/microsoft.csv', index_col=0)\n",
    "ms.head()"
   ]
  },
  {
   "cell_type": "markdown",
   "id": "8837d7f5-570b-47d7-8389-01ec4d38c29c",
   "metadata": {},
   "source": [
    "## Distribuition of Log Return"
   ]
  },
  {
   "cell_type": "markdown",
   "id": "2b3778e7-a2d3-4916-af37-20c0cb68dbf0",
   "metadata": {},
   "source": [
    "Vamos calcular o retorno logarítmico diário"
   ]
  },
  {
   "cell_type": "code",
   "execution_count": 184,
   "id": "54c82e42-0a8c-49f6-abe0-867dfc80fe1b",
   "metadata": {},
   "outputs": [],
   "source": [
    "ms['LogReturn'] = np.log(ms['Close']).shift(-1) - np.log(ms['Close'])"
   ]
  },
  {
   "cell_type": "markdown",
   "id": "1cc55664-d331-49d8-92e1-cc87b666a855",
   "metadata": {},
   "source": [
    "Em seguida, plotamos um histograma mostrando a distribuição dos retornos logarítmicos diários para as ações da Microsoft: "
   ]
  },
  {
   "cell_type": "code",
   "execution_count": 192,
   "id": "feea6e57-e0c2-4fd1-b2d2-6f8bb24eded7",
   "metadata": {},
   "outputs": [
    {
     "data": {
      "text/plain": [
       "11"
      ]
     },
     "execution_count": 192,
     "metadata": {},
     "output_type": "execute_result"
    }
   ],
   "source": [
    "sturges(len(ms['LogReturn']))"
   ]
  },
  {
   "cell_type": "code",
   "execution_count": 190,
   "id": "28fc0492-c1cf-44d4-a8b2-5c83fa5fc7c4",
   "metadata": {},
   "outputs": [],
   "source": [
    "def sturges(n):\n",
    "    return round(1 + 3.3 * np.log10(n))"
   ]
  },
  {
   "cell_type": "code",
   "execution_count": 197,
   "id": "c26f5e5c-6690-41e5-b1c0-da309c674eb3",
   "metadata": {},
   "outputs": [
    {
     "data": {
      "image/png": "[encoded data removed]",
      "text/plain": [
       "<Figure size 576x432 with 1 Axes>"
      ]
     },
     "metadata": {
      "needs_background": "light"
     },
     "output_type": "display_data"
    }
   ],
   "source": [
    "mu = ms['LogReturn'].mean()\n",
    "sigma = ms['LogReturn'].std(ddof=1)\n",
    "\n",
    "density = pd.DataFrame()\n",
    "density['x'] = np.arange(ms['LogReturn'].min() - 0.01, ms['LogReturn'].max() + 0.01, 0.0001)\n",
    "density['pdf'] = norm.pdf(density['x'], mu, sigma)\n",
    "\n",
    "b = sturges(len(ms['LogReturn']))\n",
    "ms['LogReturn'].hist(bins=50, figsize=(8,6), edgecolor='white')\n",
    "plt.plot(density['x'], density['pdf'], color='red')\n",
    "plt.show()"
   ]
  },
  {
   "cell_type": "markdown",
   "id": "a3695bc5-be49-42cb-8245-c3aa516a2214",
   "metadata": {},
   "source": [
    "## Calculate the probability of the stock price will drop over a certain percentage in a day"
   ]
  },
  {
   "cell_type": "markdown",
   "id": "fa1c58f4-8536-486c-ae09-b20683c31503",
   "metadata": {},
   "source": [
    "A seguir, calculamos a probabilidade de o preço das ações da Microsoft cair mais de 5% em um dia."
   ]
  },
  {
   "cell_type": "code",
   "execution_count": 198,
   "id": "f9e0d6e2-d8c5-44b0-8cdf-9c7634d94a68",
   "metadata": {},
   "outputs": [
    {
     "name": "stdout",
     "output_type": "stream",
     "text": [
      "A probabilidade é 0.0171%.\n"
     ]
    }
   ],
   "source": [
    "prob_return1 = norm.cdf(-0.05, mu, sigma)\n",
    "print(f\"A probabilidade é {100 * prob_return1:>.4f}%.\")"
   ]
  },
  {
   "cell_type": "markdown",
   "id": "a519fd02-3e3e-4c0c-bf2e-80860b047f05",
   "metadata": {},
   "source": [
    "## Calculate the probability of the stock price will drop over a certain percentage in a year"
   ]
  },
  {
   "cell_type": "markdown",
   "id": "71bde7af-9ade-4d82-9e5a-3a1ef0f9bf29",
   "metadata": {},
   "source": [
    "Agora, calcularemos a probabilidade de queda de 40% em um ano, ou seja, em 220 dias de trabalho da bolsa de valores."
   ]
  },
  {
   "cell_type": "code",
   "execution_count": 201,
   "id": "988baa55-0b9a-4059-9ce3-de8e0bc4a95e",
   "metadata": {},
   "outputs": [
    {
     "name": "stdout",
     "output_type": "stream",
     "text": [
      "A probabilidade de uma queda de 40% em 220 dias é 0.2912%.\n"
     ]
    }
   ],
   "source": [
    "drop = -0.4\n",
    "num_days = 220\n",
    "mu220 = num_days * mu\n",
    "sigma220 = (num_days**0.5) * sigma\n",
    "print(f\"A probabilidade de uma queda de {-100*drop:>.0f}% em {num_days} dias é {100*norm.cdf(drop, mu220, sigma220):>.4f}%.\")"
   ]
  },
  {
   "cell_type": "markdown",
   "id": "12517260-1ca0-4497-8f83-870e27ae7a54",
   "metadata": {},
   "source": [
    "## Calculate Value at risk (VaR)"
   ]
  },
  {
   "cell_type": "code",
   "execution_count": 203,
   "id": "2d2cb681-3d35-4bde-947d-56066821e8de",
   "metadata": {},
   "outputs": [
    {
     "name": "stdout",
     "output_type": "stream",
     "text": [
      "Single day value at risk  -0.02252336240706501\n"
     ]
    }
   ],
   "source": [
    "VaR = norm.ppf(0.05, mu, sigma)\n",
    "print('Single day value at risk ', VaR)"
   ]
  },
  {
   "cell_type": "code",
   "execution_count": null,
   "id": "0c743843-507d-49b4-ad70-52f636d822fe",
   "metadata": {},
   "outputs": [],
   "source": []
  }
 ],
 "metadata": {
  "kernelspec": {
   "display_name": "ds38",
   "language": "python",
   "name": "ds38"
  },
  "language_info": {
   "codemirror_mode": {
    "name": "ipython",
    "version": 3
   },
   "file_extension": ".py",
   "mimetype": "text/x-python",
   "name": "python",
   "nbconvert_exporter": "python",
   "pygments_lexer": "ipython3",
   "version": "3.8.8"
  }
 },
 "nbformat": 4,
 "nbformat_minor": 5
}
